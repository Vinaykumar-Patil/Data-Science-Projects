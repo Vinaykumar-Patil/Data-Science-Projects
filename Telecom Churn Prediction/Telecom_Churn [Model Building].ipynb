{
 "cells": [
  {
   "cell_type": "code",
   "execution_count": 44,
   "id": "36692bcb",
   "metadata": {
    "ExecuteTime": {
     "end_time": "2023-04-07T07:56:54.133092Z",
     "start_time": "2023-04-07T07:56:54.110385Z"
    }
   },
   "outputs": [],
   "source": [
    "# Ignore anoying warnings\n",
    "import warnings\n",
    "warnings.filterwarnings(\"ignore\")\n",
    "\n",
    "# Importing all usefull libraries\n",
    "import pandas as pd\n",
    "import numpy as np\n",
    "import seaborn as sns\n",
    "import matplotlib.pyplot as plt\n",
    "\n",
    "from sklearn import svm\n",
    "from sklearn.preprocessing import StandardScaler, OneHotEncoder, MinMaxScaler\n",
    "from sklearn.linear_model import LogisticRegression\n",
    "from sklearn.tree import DecisionTreeClassifier\n",
    "from imblearn.over_sampling import RandomOverSampler\n",
    "from sklearn.ensemble import RandomForestClassifier, GradientBoostingClassifier\n",
    "from sklearn.model_selection import train_test_split, cross_val_score, KFold, GridSearchCV\n",
    "from sklearn.metrics import classification_report, confusion_matrix, accuracy_score, roc_auc_score, roc_curve, auc\n",
    "from sklearn.compose import ColumnTransformer\n",
    "from sklearn.pipeline import Pipeline\n",
    "from sklearn.impute import SimpleImputer\n",
    "\n",
    "from sklearn import set_config\n",
    "set_config(display='diagram')\n",
    "\n",
    "%matplotlib inline"
   ]
  },
  {
   "cell_type": "code",
   "execution_count": 2,
   "id": "1f8b00d8",
   "metadata": {
    "ExecuteTime": {
     "end_time": "2023-04-07T07:45:19.393532Z",
     "start_time": "2023-04-07T07:45:19.346290Z"
    }
   },
   "outputs": [
    {
     "data": {
      "text/html": [
       "<div>\n",
       "<style scoped>\n",
       "    .dataframe tbody tr th:only-of-type {\n",
       "        vertical-align: middle;\n",
       "    }\n",
       "\n",
       "    .dataframe tbody tr th {\n",
       "        vertical-align: top;\n",
       "    }\n",
       "\n",
       "    .dataframe thead th {\n",
       "        text-align: right;\n",
       "    }\n",
       "</style>\n",
       "<table border=\"1\" class=\"dataframe\">\n",
       "  <thead>\n",
       "    <tr style=\"text-align: right;\">\n",
       "      <th></th>\n",
       "      <th>account_length</th>\n",
       "      <th>voice_messages</th>\n",
       "      <th>intl_plan</th>\n",
       "      <th>intl_mins</th>\n",
       "      <th>intl_calls</th>\n",
       "      <th>day_mins</th>\n",
       "      <th>eve_charge</th>\n",
       "      <th>night_mins</th>\n",
       "      <th>customer_calls</th>\n",
       "      <th>churn</th>\n",
       "    </tr>\n",
       "  </thead>\n",
       "  <tbody>\n",
       "    <tr>\n",
       "      <th>0</th>\n",
       "      <td>128</td>\n",
       "      <td>25.0</td>\n",
       "      <td>0</td>\n",
       "      <td>10.0</td>\n",
       "      <td>3.0</td>\n",
       "      <td>265.1</td>\n",
       "      <td>16.78</td>\n",
       "      <td>244.7</td>\n",
       "      <td>1.0</td>\n",
       "      <td>0</td>\n",
       "    </tr>\n",
       "    <tr>\n",
       "      <th>1</th>\n",
       "      <td>107</td>\n",
       "      <td>26.0</td>\n",
       "      <td>0</td>\n",
       "      <td>13.7</td>\n",
       "      <td>3.0</td>\n",
       "      <td>161.6</td>\n",
       "      <td>16.62</td>\n",
       "      <td>254.4</td>\n",
       "      <td>1.0</td>\n",
       "      <td>0</td>\n",
       "    </tr>\n",
       "    <tr>\n",
       "      <th>2</th>\n",
       "      <td>137</td>\n",
       "      <td>0.0</td>\n",
       "      <td>0</td>\n",
       "      <td>12.2</td>\n",
       "      <td>5.0</td>\n",
       "      <td>243.4</td>\n",
       "      <td>10.30</td>\n",
       "      <td>162.6</td>\n",
       "      <td>0.0</td>\n",
       "      <td>0</td>\n",
       "    </tr>\n",
       "    <tr>\n",
       "      <th>3</th>\n",
       "      <td>84</td>\n",
       "      <td>0.0</td>\n",
       "      <td>1</td>\n",
       "      <td>6.6</td>\n",
       "      <td>7.0</td>\n",
       "      <td>299.4</td>\n",
       "      <td>5.50</td>\n",
       "      <td>196.9</td>\n",
       "      <td>2.0</td>\n",
       "      <td>0</td>\n",
       "    </tr>\n",
       "    <tr>\n",
       "      <th>4</th>\n",
       "      <td>75</td>\n",
       "      <td>0.0</td>\n",
       "      <td>1</td>\n",
       "      <td>10.1</td>\n",
       "      <td>3.0</td>\n",
       "      <td>166.7</td>\n",
       "      <td>12.61</td>\n",
       "      <td>186.9</td>\n",
       "      <td>3.0</td>\n",
       "      <td>0</td>\n",
       "    </tr>\n",
       "  </tbody>\n",
       "</table>\n",
       "</div>"
      ],
      "text/plain": [
       "   account_length  voice_messages  intl_plan  intl_mins  intl_calls  day_mins  \\\n",
       "0             128            25.0          0       10.0         3.0     265.1   \n",
       "1             107            26.0          0       13.7         3.0     161.6   \n",
       "2             137             0.0          0       12.2         5.0     243.4   \n",
       "3              84             0.0          1        6.6         7.0     299.4   \n",
       "4              75             0.0          1       10.1         3.0     166.7   \n",
       "\n",
       "   eve_charge  night_mins  customer_calls  churn  \n",
       "0       16.78       244.7             1.0      0  \n",
       "1       16.62       254.4             1.0      0  \n",
       "2       10.30       162.6             0.0      0  \n",
       "3        5.50       196.9             2.0      0  \n",
       "4       12.61       186.9             3.0      0  "
      ]
     },
     "execution_count": 2,
     "metadata": {},
     "output_type": "execute_result"
    }
   ],
   "source": [
    "# Loading data for model building\n",
    "telecom = pd.read_csv(\"Churn_Model_Building_Data.csv\")\n",
    "\n",
    "# Showing first 5 rows from data set\n",
    "telecom.head()"
   ]
  },
  {
   "cell_type": "code",
   "execution_count": 3,
   "id": "2008867e",
   "metadata": {
    "ExecuteTime": {
     "end_time": "2023-04-07T07:45:19.406061Z",
     "start_time": "2023-04-07T07:45:19.393532Z"
    }
   },
   "outputs": [],
   "source": [
    "# Defining independent (x) & dependent (y) variables for model building purpose\n",
    "\n",
    "x = telecom.iloc[:,:-1]\n",
    "y = telecom['churn']"
   ]
  },
  {
   "cell_type": "code",
   "execution_count": 4,
   "id": "33ba92df",
   "metadata": {
    "ExecuteTime": {
     "end_time": "2023-04-07T07:45:19.430716Z",
     "start_time": "2023-04-07T07:45:19.408837Z"
    }
   },
   "outputs": [
    {
     "data": {
      "text/plain": [
       "0    4293\n",
       "1     707\n",
       "Name: churn, dtype: int64"
      ]
     },
     "execution_count": 4,
     "metadata": {},
     "output_type": "execute_result"
    }
   ],
   "source": [
    "# Target column value count\n",
    "y.value_counts()"
   ]
  },
  {
   "cell_type": "markdown",
   "id": "c0331b8e",
   "metadata": {},
   "source": [
    "## Balancing Data :\n",
    "- **As we see in above target column value counts, the data is imbalanced.** \n",
    "- **For balancing that data we use `RandomOverSampler()`.**"
   ]
  },
  {
   "cell_type": "code",
   "execution_count": 5,
   "id": "ed0031f6",
   "metadata": {
    "ExecuteTime": {
     "end_time": "2023-04-07T07:45:19.456099Z",
     "start_time": "2023-04-07T07:45:19.430716Z"
    }
   },
   "outputs": [
    {
     "name": "stdout",
     "output_type": "stream",
     "text": [
      "0    4293\n",
      "1    4293\n",
      "Name: churn, dtype: int64\n"
     ]
    }
   ],
   "source": [
    "# Creating a RandomOverSampler object\n",
    "ros = RandomOverSampler()\n",
    "\n",
    "# Fitting the RandomOverSampler to the independent & dependent features & perform the oversampling\n",
    "x, y = ros.fit_resample(x, y)\n",
    "\n",
    "# Verify that the dataset is balanced\n",
    "print(y.value_counts())"
   ]
  },
  {
   "cell_type": "markdown",
   "id": "27e2e4e6",
   "metadata": {},
   "source": [
    "- ***Standardize features by removing the mean and scaling to unit variance.***"
   ]
  },
  {
   "cell_type": "code",
   "execution_count": 6,
   "id": "4904f9e6",
   "metadata": {
    "ExecuteTime": {
     "end_time": "2023-04-07T07:45:19.472318Z",
     "start_time": "2023-04-07T07:45:19.456099Z"
    }
   },
   "outputs": [],
   "source": [
    "# Creating object for StandardScaler()\n",
    "sc = StandardScaler()\n",
    "\n",
    "# Standardizing independent (x) features\n",
    "x = sc.fit_transform(x)"
   ]
  },
  {
   "cell_type": "code",
   "execution_count": 7,
   "id": "44b25763",
   "metadata": {
    "ExecuteTime": {
     "end_time": "2023-04-07T07:45:19.488616Z",
     "start_time": "2023-04-07T07:45:19.476793Z"
    }
   },
   "outputs": [],
   "source": [
    "# Splitting data into train & test sets to avoid overfitting & model building purpose\n",
    "xtrain,xtest,ytrain,ytest = train_test_split(x, y, test_size=0.25, random_state=1)"
   ]
  },
  {
   "cell_type": "markdown",
   "id": "64394102",
   "metadata": {},
   "source": [
    "# 1. Logistic Regression :"
   ]
  },
  {
   "cell_type": "code",
   "execution_count": 8,
   "id": "dbbbd280",
   "metadata": {
    "ExecuteTime": {
     "end_time": "2023-04-07T07:45:19.526498Z",
     "start_time": "2023-04-07T07:45:19.490745Z"
    }
   },
   "outputs": [],
   "source": [
    "# Creating object for LogisticRegression()\n",
    "lg = LogisticRegression()\n",
    "\n",
    "# Fitting the model on training data\n",
    "lg.fit(xtrain,ytrain)\n",
    "\n",
    "# Prediction\n",
    "lg_pred = lg.predict(xtest)"
   ]
  },
  {
   "cell_type": "code",
   "execution_count": 9,
   "id": "55f4365f",
   "metadata": {
    "ExecuteTime": {
     "end_time": "2023-04-07T07:45:19.542499Z",
     "start_time": "2023-04-07T07:45:19.526498Z"
    }
   },
   "outputs": [
    {
     "name": "stdout",
     "output_type": "stream",
     "text": [
      "Training Accuracy :  0.7356732411865197\n",
      "Testing Accuracy :  0.7265952491849091\n"
     ]
    }
   ],
   "source": [
    "# Training & Testing accuracy\n",
    "print('Training Accuracy : ', lg.score(xtrain,ytrain))\n",
    "print('Testing Accuracy : ', lg.score(xtest,ytest))"
   ]
  },
  {
   "cell_type": "code",
   "execution_count": 10,
   "id": "83a05a74",
   "metadata": {
    "ExecuteTime": {
     "end_time": "2023-04-07T07:45:19.560140Z",
     "start_time": "2023-04-07T07:45:19.542499Z"
    }
   },
   "outputs": [
    {
     "name": "stdout",
     "output_type": "stream",
     "text": [
      "              precision    recall  f1-score   support\n",
      "\n",
      "           0       0.71      0.76      0.74      1068\n",
      "           1       0.75      0.69      0.72      1079\n",
      "\n",
      "    accuracy                           0.73      2147\n",
      "   macro avg       0.73      0.73      0.73      2147\n",
      "weighted avg       0.73      0.73      0.73      2147\n",
      "\n"
     ]
    }
   ],
   "source": [
    "# Showing the main classification metrics\n",
    "print(classification_report(ytest,lg_pred))"
   ]
  },
  {
   "cell_type": "code",
   "execution_count": 11,
   "id": "b2a54b7b",
   "metadata": {
    "ExecuteTime": {
     "end_time": "2023-04-07T07:45:19.795870Z",
     "start_time": "2023-04-07T07:45:19.560140Z"
    }
   },
   "outputs": [
    {
     "data": {
      "text/plain": [
       "Text(50.722222222222214, 0.5, 'Predicted Values')"
      ]
     },
     "execution_count": 11,
     "metadata": {},
     "output_type": "execute_result"
    },
    {
     "data": {
      "image/png": "[encoded data removed]",
      "text/plain": [
       "<Figure size 640x480 with 2 Axes>"
      ]
     },
     "metadata": {},
     "output_type": "display_data"
    }
   ],
   "source": [
    "# Computing confusion matrix to evaluate the accuracy of a classification.\n",
    "\n",
    "sns.heatmap(confusion_matrix(ytest,lg_pred), annot=True)\n",
    "plt.xlabel('Actual Values')\n",
    "plt.ylabel('Predicted Values')"
   ]
  },
  {
   "cell_type": "code",
   "execution_count": 12,
   "id": "930007e7",
   "metadata": {
    "ExecuteTime": {
     "end_time": "2023-04-07T07:45:19.817157Z",
     "start_time": "2023-04-07T07:45:19.798684Z"
    }
   },
   "outputs": [
    {
     "data": {
      "text/plain": [
       "0.7265952491849091"
      ]
     },
     "execution_count": 12,
     "metadata": {},
     "output_type": "execute_result"
    }
   ],
   "source": [
    "# Accuracy classification score.\n",
    "accuracy_score(ytest,lg_pred)"
   ]
  },
  {
   "cell_type": "markdown",
   "id": "dab82572",
   "metadata": {},
   "source": [
    "# 2. Random Forests Classifier :"
   ]
  },
  {
   "cell_type": "code",
   "execution_count": 13,
   "id": "4e1513bb",
   "metadata": {
    "ExecuteTime": {
     "end_time": "2023-04-07T07:45:20.790062Z",
     "start_time": "2023-04-07T07:45:19.818289Z"
    }
   },
   "outputs": [],
   "source": [
    "# Create object for RandomForestClassifier()\n",
    "rf = RandomForestClassifier()\n",
    "\n",
    "# Fitting the model on training data\n",
    "rf.fit(xtrain,ytrain)\n",
    "\n",
    "# Prediction\n",
    "rf_pred = rf.predict(xtest) "
   ]
  },
  {
   "cell_type": "code",
   "execution_count": 14,
   "id": "8b40783c",
   "metadata": {
    "ExecuteTime": {
     "end_time": "2023-04-07T07:45:20.970927Z",
     "start_time": "2023-04-07T07:45:20.790062Z"
    }
   },
   "outputs": [
    {
     "name": "stdout",
     "output_type": "stream",
     "text": [
      "Training Accuracy :  1.0\n",
      "Testing Accuracy :  0.9925477410340009\n"
     ]
    }
   ],
   "source": [
    "# Training & Testing accuracy\n",
    "print('Training Accuracy : ', rf.score(xtrain,ytrain))\n",
    "print('Testing Accuracy : ', rf.score(xtest,ytest))"
   ]
  },
  {
   "cell_type": "code",
   "execution_count": 15,
   "id": "d2fcbaec",
   "metadata": {
    "ExecuteTime": {
     "end_time": "2023-04-07T07:45:20.988813Z",
     "start_time": "2023-04-07T07:45:20.970927Z"
    }
   },
   "outputs": [
    {
     "name": "stdout",
     "output_type": "stream",
     "text": [
      "              precision    recall  f1-score   support\n",
      "\n",
      "           0       1.00      0.99      0.99      1068\n",
      "           1       0.99      1.00      0.99      1079\n",
      "\n",
      "    accuracy                           0.99      2147\n",
      "   macro avg       0.99      0.99      0.99      2147\n",
      "weighted avg       0.99      0.99      0.99      2147\n",
      "\n"
     ]
    }
   ],
   "source": [
    "# Showing the main classification metrics\n",
    "print(classification_report(ytest,rf_pred))"
   ]
  },
  {
   "cell_type": "code",
   "execution_count": 16,
   "id": "7289de66",
   "metadata": {
    "ExecuteTime": {
     "end_time": "2023-04-07T07:45:21.203341Z",
     "start_time": "2023-04-07T07:45:20.990574Z"
    }
   },
   "outputs": [
    {
     "data": {
      "text/plain": [
       "Text(50.722222222222214, 0.5, 'Predicted Values')"
      ]
     },
     "execution_count": 16,
     "metadata": {},
     "output_type": "execute_result"
    },
    {
     "data": {
      "image/png": "[encoded data removed]",
      "text/plain": [
       "<Figure size 640x480 with 2 Axes>"
      ]
     },
     "metadata": {},
     "output_type": "display_data"
    }
   ],
   "source": [
    "# Compute confusion matrix to evaluate the accuracy of a classification.\n",
    "\n",
    "sns.heatmap(confusion_matrix(ytest,rf_pred), annot=True)\n",
    "plt.xlabel('Actual Values')\n",
    "plt.ylabel('Predicted Values')"
   ]
  },
  {
   "cell_type": "code",
   "execution_count": 17,
   "id": "27ea7df7",
   "metadata": {
    "ExecuteTime": {
     "end_time": "2023-04-07T07:45:21.235882Z",
     "start_time": "2023-04-07T07:45:21.203341Z"
    }
   },
   "outputs": [
    {
     "data": {
      "text/plain": [
       "0.9925477410340009"
      ]
     },
     "execution_count": 17,
     "metadata": {},
     "output_type": "execute_result"
    }
   ],
   "source": [
    "# Accuracy classification score.\n",
    "accuracy_score(ytest,rf_pred)"
   ]
  },
  {
   "cell_type": "markdown",
   "id": "dc442d7e",
   "metadata": {},
   "source": [
    "# 3. GradientBoostingClassifier :"
   ]
  },
  {
   "cell_type": "code",
   "execution_count": 18,
   "id": "90e56dc5",
   "metadata": {
    "ExecuteTime": {
     "end_time": "2023-04-07T07:45:22.106909Z",
     "start_time": "2023-04-07T07:45:21.235882Z"
    }
   },
   "outputs": [],
   "source": [
    "# Create object for GradientBoostingClassifier()\n",
    "gb = GradientBoostingClassifier()\n",
    "\n",
    "# Fitting the model on training data\n",
    "gb.fit(xtrain,ytrain)\n",
    "\n",
    "# Prediction\n",
    "gb_pred = gb.predict(xtest)"
   ]
  },
  {
   "cell_type": "code",
   "execution_count": 19,
   "id": "e20e2c84",
   "metadata": {
    "ExecuteTime": {
     "end_time": "2023-04-07T07:45:22.143525Z",
     "start_time": "2023-04-07T07:45:22.106909Z"
    }
   },
   "outputs": [
    {
     "name": "stdout",
     "output_type": "stream",
     "text": [
      "Training Accuracy :  0.9159807423512968\n",
      "Testing Accuracy :  0.8970656730321379\n"
     ]
    }
   ],
   "source": [
    "# Training & Testing accuracy\n",
    "print('Training Accuracy : ', gb.score(xtrain,ytrain))\n",
    "print('Testing Accuracy : ', gb.score(xtest,ytest))"
   ]
  },
  {
   "cell_type": "code",
   "execution_count": 20,
   "id": "188cc529",
   "metadata": {
    "ExecuteTime": {
     "end_time": "2023-04-07T07:45:22.164816Z",
     "start_time": "2023-04-07T07:45:22.143744Z"
    }
   },
   "outputs": [
    {
     "name": "stdout",
     "output_type": "stream",
     "text": [
      "              precision    recall  f1-score   support\n",
      "\n",
      "           0       0.87      0.94      0.90      1068\n",
      "           1       0.93      0.86      0.89      1079\n",
      "\n",
      "    accuracy                           0.90      2147\n",
      "   macro avg       0.90      0.90      0.90      2147\n",
      "weighted avg       0.90      0.90      0.90      2147\n",
      "\n"
     ]
    }
   ],
   "source": [
    "# Showing the main classification metrics\n",
    "print(classification_report(ytest,gb_pred))"
   ]
  },
  {
   "cell_type": "code",
   "execution_count": 21,
   "id": "e6c819d6",
   "metadata": {
    "ExecuteTime": {
     "end_time": "2023-04-07T07:45:22.335001Z",
     "start_time": "2023-04-07T07:45:22.164816Z"
    }
   },
   "outputs": [
    {
     "data": {
      "text/plain": [
       "Text(50.722222222222214, 0.5, 'Predicted Values')"
      ]
     },
     "execution_count": 21,
     "metadata": {},
     "output_type": "execute_result"
    },
    {
     "data": {
      "image/png": "[encoded data removed]",
      "text/plain": [
       "<Figure size 640x480 with 2 Axes>"
      ]
     },
     "metadata": {},
     "output_type": "display_data"
    }
   ],
   "source": [
    "# Compute confusion matrix to evaluate the accuracy of a classification.\n",
    "\n",
    "sns.heatmap(confusion_matrix(ytest,gb_pred), annot=True)\n",
    "plt.xlabel('Actual Values')\n",
    "plt.ylabel('Predicted Values')"
   ]
  },
  {
   "cell_type": "code",
   "execution_count": 22,
   "id": "9a8ce17e",
   "metadata": {
    "ExecuteTime": {
     "end_time": "2023-04-07T07:45:22.350933Z",
     "start_time": "2023-04-07T07:45:22.335001Z"
    }
   },
   "outputs": [
    {
     "data": {
      "text/plain": [
       "0.8970656730321379"
      ]
     },
     "execution_count": 22,
     "metadata": {},
     "output_type": "execute_result"
    }
   ],
   "source": [
    "# Accuracy classification score.\n",
    "accuracy_score(ytest,gb_pred)"
   ]
  },
  {
   "cell_type": "markdown",
   "id": "60e9901d",
   "metadata": {},
   "source": [
    "# 4. Support Vector Machines [SVM] :"
   ]
  },
  {
   "cell_type": "code",
   "execution_count": 23,
   "id": "8865ce5a",
   "metadata": {
    "ExecuteTime": {
     "end_time": "2023-04-07T07:45:24.095269Z",
     "start_time": "2023-04-07T07:45:22.352103Z"
    }
   },
   "outputs": [],
   "source": [
    "# Create object for svm()\n",
    "svm = svm.SVC()\n",
    "\n",
    "# Fitting the model on training data\n",
    "svm.fit(xtrain,ytrain)\n",
    "\n",
    "# Prediction\n",
    "svm_pred = svm.predict(xtest)"
   ]
  },
  {
   "cell_type": "code",
   "execution_count": 24,
   "id": "2d1622d4",
   "metadata": {
    "ExecuteTime": {
     "end_time": "2023-04-07T07:45:26.676288Z",
     "start_time": "2023-04-07T07:45:24.095269Z"
    }
   },
   "outputs": [
    {
     "name": "stdout",
     "output_type": "stream",
     "text": [
      "Training Accuracy :  0.9093026867526013\n",
      "Testing Accuracy :  0.888216115510014\n"
     ]
    }
   ],
   "source": [
    "# Training & Testing accuracy\n",
    "print('Training Accuracy : ', svm.score(xtrain,ytrain))\n",
    "print('Testing Accuracy : ', svm.score(xtest,ytest))"
   ]
  },
  {
   "cell_type": "code",
   "execution_count": 25,
   "id": "d983b8e5",
   "metadata": {
    "ExecuteTime": {
     "end_time": "2023-04-07T07:45:26.707958Z",
     "start_time": "2023-04-07T07:45:26.676288Z"
    }
   },
   "outputs": [
    {
     "name": "stdout",
     "output_type": "stream",
     "text": [
      "              precision    recall  f1-score   support\n",
      "\n",
      "           0       0.88      0.90      0.89      1068\n",
      "           1       0.90      0.88      0.89      1079\n",
      "\n",
      "    accuracy                           0.89      2147\n",
      "   macro avg       0.89      0.89      0.89      2147\n",
      "weighted avg       0.89      0.89      0.89      2147\n",
      "\n"
     ]
    }
   ],
   "source": [
    "# Showing the main classification metrics\n",
    "print(classification_report(ytest,svm_pred))"
   ]
  },
  {
   "cell_type": "code",
   "execution_count": 26,
   "id": "1009c572",
   "metadata": {
    "ExecuteTime": {
     "end_time": "2023-04-07T07:45:26.969435Z",
     "start_time": "2023-04-07T07:45:26.707958Z"
    }
   },
   "outputs": [
    {
     "data": {
      "text/plain": [
       "Text(50.722222222222214, 0.5, 'Predicted Values')"
      ]
     },
     "execution_count": 26,
     "metadata": {},
     "output_type": "execute_result"
    },
    {
     "data": {
      "image/png": "[encoded data removed]",
      "text/plain": [
       "<Figure size 640x480 with 2 Axes>"
      ]
     },
     "metadata": {},
     "output_type": "display_data"
    }
   ],
   "source": [
    "# Compute confusion matrix to evaluate the accuracy of a classification.\n",
    "\n",
    "sns.heatmap(confusion_matrix(ytest,svm_pred), annot=True)\n",
    "plt.xlabel('Actual Values')\n",
    "plt.ylabel('Predicted Values')"
   ]
  },
  {
   "cell_type": "code",
   "execution_count": 27,
   "id": "9a3f717c",
   "metadata": {
    "ExecuteTime": {
     "end_time": "2023-04-07T07:45:26.985496Z",
     "start_time": "2023-04-07T07:45:26.969435Z"
    }
   },
   "outputs": [
    {
     "data": {
      "text/plain": [
       "0.888216115510014"
      ]
     },
     "execution_count": 27,
     "metadata": {},
     "output_type": "execute_result"
    }
   ],
   "source": [
    "# Accuracy classification score.\n",
    "accuracy_score(ytest,svm_pred)"
   ]
  },
  {
   "cell_type": "markdown",
   "id": "b684119b",
   "metadata": {},
   "source": [
    "# 5. Decision Tree Classifier :"
   ]
  },
  {
   "cell_type": "code",
   "execution_count": 28,
   "id": "8a2ffd0f",
   "metadata": {
    "ExecuteTime": {
     "end_time": "2023-04-07T07:45:27.043240Z",
     "start_time": "2023-04-07T07:45:26.993752Z"
    }
   },
   "outputs": [],
   "source": [
    "# Create object for DecisionTreeClassifier()\n",
    "dt = DecisionTreeClassifier()\n",
    "\n",
    "# Fitting the model on training data\n",
    "dt.fit(xtrain,ytrain)\n",
    "\n",
    "# Prediction\n",
    "dt_pred = dt.predict(xtest)"
   ]
  },
  {
   "cell_type": "code",
   "execution_count": 29,
   "id": "42e355b0",
   "metadata": {
    "ExecuteTime": {
     "end_time": "2023-04-07T07:45:27.059240Z",
     "start_time": "2023-04-07T07:45:27.043240Z"
    }
   },
   "outputs": [
    {
     "name": "stdout",
     "output_type": "stream",
     "text": [
      "Training Accuracy :  1.0\n",
      "Testing Accuracy :  0.9706567303213787\n"
     ]
    }
   ],
   "source": [
    "# Training & Testing accuracy\n",
    "print('Training Accuracy : ', dt.score(xtrain,ytrain))\n",
    "print('Testing Accuracy : ', dt.score(xtest,ytest))"
   ]
  },
  {
   "cell_type": "code",
   "execution_count": 30,
   "id": "ba96cbcf",
   "metadata": {
    "ExecuteTime": {
     "end_time": "2023-04-07T07:45:27.075801Z",
     "start_time": "2023-04-07T07:45:27.061954Z"
    }
   },
   "outputs": [
    {
     "name": "stdout",
     "output_type": "stream",
     "text": [
      "              precision    recall  f1-score   support\n",
      "\n",
      "           0       1.00      0.94      0.97      1068\n",
      "           1       0.95      1.00      0.97      1079\n",
      "\n",
      "    accuracy                           0.97      2147\n",
      "   macro avg       0.97      0.97      0.97      2147\n",
      "weighted avg       0.97      0.97      0.97      2147\n",
      "\n"
     ]
    }
   ],
   "source": [
    "# Showing the main classification metrics\n",
    "print(classification_report(ytest,dt_pred))"
   ]
  },
  {
   "cell_type": "code",
   "execution_count": 31,
   "id": "810c8f9d",
   "metadata": {
    "ExecuteTime": {
     "end_time": "2023-04-07T07:45:27.263559Z",
     "start_time": "2023-04-07T07:45:27.076443Z"
    }
   },
   "outputs": [
    {
     "data": {
      "text/plain": [
       "Text(50.722222222222214, 0.5, 'Predicted Values')"
      ]
     },
     "execution_count": 31,
     "metadata": {},
     "output_type": "execute_result"
    },
    {
     "data": {
      "image/png": "[encoded data removed]",
      "text/plain": [
       "<Figure size 640x480 with 2 Axes>"
      ]
     },
     "metadata": {},
     "output_type": "display_data"
    }
   ],
   "source": [
    "# Compute confusion matrix to evaluate the accuracy of a classification.\n",
    "\n",
    "sns.heatmap(confusion_matrix(ytest,dt_pred), annot=True)\n",
    "plt.xlabel('Actual Values')\n",
    "plt.ylabel('Predicted Values')"
   ]
  },
  {
   "cell_type": "code",
   "execution_count": 32,
   "id": "56d05ca6",
   "metadata": {
    "ExecuteTime": {
     "end_time": "2023-04-07T07:45:27.279562Z",
     "start_time": "2023-04-07T07:45:27.263559Z"
    }
   },
   "outputs": [
    {
     "data": {
      "text/plain": [
       "0.9706567303213787"
      ]
     },
     "execution_count": 32,
     "metadata": {},
     "output_type": "execute_result"
    }
   ],
   "source": [
    "# Accuracy classification score.\n",
    "accuracy_score(ytest,dt_pred)"
   ]
  },
  {
   "cell_type": "code",
   "execution_count": 33,
   "id": "80c3f967",
   "metadata": {
    "ExecuteTime": {
     "end_time": "2023-04-07T07:45:27.320036Z",
     "start_time": "2023-04-07T07:45:27.284108Z"
    }
   },
   "outputs": [
    {
     "data": {
      "text/html": [
       "<div>\n",
       "<style scoped>\n",
       "    .dataframe tbody tr th:only-of-type {\n",
       "        vertical-align: middle;\n",
       "    }\n",
       "\n",
       "    .dataframe tbody tr th {\n",
       "        vertical-align: top;\n",
       "    }\n",
       "\n",
       "    .dataframe thead th {\n",
       "        text-align: right;\n",
       "    }\n",
       "</style>\n",
       "<table border=\"1\" class=\"dataframe\">\n",
       "  <thead>\n",
       "    <tr style=\"text-align: right;\">\n",
       "      <th></th>\n",
       "      <th>Model</th>\n",
       "      <th>Accuracy</th>\n",
       "    </tr>\n",
       "  </thead>\n",
       "  <tbody>\n",
       "    <tr>\n",
       "      <th>0</th>\n",
       "      <td>Logistic Regrassion</td>\n",
       "      <td>0.726595</td>\n",
       "    </tr>\n",
       "    <tr>\n",
       "      <th>1</th>\n",
       "      <td>Random Forests</td>\n",
       "      <td>0.992548</td>\n",
       "    </tr>\n",
       "    <tr>\n",
       "      <th>2</th>\n",
       "      <td>GradientBoostingClassifier</td>\n",
       "      <td>0.897066</td>\n",
       "    </tr>\n",
       "    <tr>\n",
       "      <th>3</th>\n",
       "      <td>SVM</td>\n",
       "      <td>0.888216</td>\n",
       "    </tr>\n",
       "    <tr>\n",
       "      <th>4</th>\n",
       "      <td>DecisionTreeClassifier</td>\n",
       "      <td>0.970657</td>\n",
       "    </tr>\n",
       "  </tbody>\n",
       "</table>\n",
       "</div>"
      ],
      "text/plain": [
       "                        Model  Accuracy\n",
       "0         Logistic Regrassion  0.726595\n",
       "1              Random Forests  0.992548\n",
       "2  GradientBoostingClassifier  0.897066\n",
       "3                         SVM  0.888216\n",
       "4      DecisionTreeClassifier  0.970657"
      ]
     },
     "execution_count": 33,
     "metadata": {},
     "output_type": "execute_result"
    }
   ],
   "source": [
    "# Creating dataframe for created models & their accuracy\n",
    "model_acc = pd.DataFrame()\n",
    "\n",
    "# Column for all created models\n",
    "model_acc['Model'] = ['Logistic Regrassion','Random Forests','GradientBoostingClassifier','SVM','DecisionTreeClassifier']\n",
    "\n",
    "# Column for their accuracy\n",
    "model_acc['Accuracy'] = [accuracy_score(ytest,lg_pred), accuracy_score(ytest,rf_pred), accuracy_score(ytest,gb_pred), \n",
    "                        accuracy_score(ytest,svm_pred), accuracy_score(ytest,dt_pred)]\n",
    "\n",
    "# Show the Dataframe\n",
    "model_acc"
   ]
  },
  {
   "cell_type": "code",
   "execution_count": 34,
   "id": "10de074f",
   "metadata": {
    "ExecuteTime": {
     "end_time": "2023-04-07T07:45:27.488834Z",
     "start_time": "2023-04-07T07:45:27.320036Z"
    }
   },
   "outputs": [
    {
     "data": {
      "image/png": "[encoded data removed]",
      "text/plain": [
       "<Figure size 1000x500 with 1 Axes>"
      ]
     },
     "metadata": {},
     "output_type": "display_data"
    }
   ],
   "source": [
    "plt.figure(figsize=(10,5))\n",
    "sns.barplot(x=model_acc['Model'], y=model_acc['Accuracy'], data=model_acc, width=0.5)\n",
    "plt.tight_layout()\n",
    "plt.show()"
   ]
  },
  {
   "cell_type": "markdown",
   "id": "70e6ccec",
   "metadata": {},
   "source": [
    "### `Random Forests Classifier` algorithm gives high accuracy than other algorithms.\n",
    "- **Performing `KFold cross-validation` & hyperparameter tunning on `Random Forests Classifier` algorithm.**"
   ]
  },
  {
   "cell_type": "code",
   "execution_count": 35,
   "id": "d3eac6ca",
   "metadata": {
    "ExecuteTime": {
     "end_time": "2023-04-07T07:45:27.513325Z",
     "start_time": "2023-04-07T07:45:27.488834Z"
    }
   },
   "outputs": [
    {
     "name": "stdout",
     "output_type": "stream",
     "text": [
      "              precision    recall  f1-score   support\n",
      "\n",
      "           0       1.00      0.99      0.99      1068\n",
      "           1       0.99      1.00      0.99      1079\n",
      "\n",
      "    accuracy                           0.99      2147\n",
      "   macro avg       0.99      0.99      0.99      2147\n",
      "weighted avg       0.99      0.99      0.99      2147\n",
      "\n",
      "AUC-ROC Score: 0.9925093632958801\n"
     ]
    }
   ],
   "source": [
    "# Evaluate the model's performance\n",
    "print(classification_report(ytest, rf_pred))\n",
    "print(\"AUC-ROC Score:\", roc_auc_score(ytest, rf_pred))"
   ]
  },
  {
   "cell_type": "code",
   "execution_count": 36,
   "id": "efd28fb4",
   "metadata": {
    "ExecuteTime": {
     "end_time": "2023-04-07T07:45:32.157939Z",
     "start_time": "2023-04-07T07:45:27.513325Z"
    }
   },
   "outputs": [
    {
     "name": "stdout",
     "output_type": "stream",
     "text": [
      "KFold Cross-validation scores : [0.99476135 0.99009901 0.99184624 0.99068142 0.99009901]\n",
      "\n",
      "KFold Cross-validation Accuracy Score : 99.15%\n"
     ]
    }
   ],
   "source": [
    "# Performing k-fold cross-validation to check the model's generalization performance\n",
    "kfold = KFold(n_splits=5, random_state=1, shuffle=True)\n",
    "cv_scores = cross_val_score(rf, x, y, cv=kfold)\n",
    "\n",
    "print(\"KFold Cross-validation scores :\", cv_scores)\n",
    "print(\"\\nKFold Cross-validation Accuracy Score : {:.2f}%\".format(cv_scores.mean() * 100))"
   ]
  },
  {
   "cell_type": "code",
   "execution_count": 37,
   "id": "67aedae2",
   "metadata": {
    "ExecuteTime": {
     "end_time": "2023-04-07T07:53:43.588839Z",
     "start_time": "2023-04-07T07:45:32.157939Z"
    }
   },
   "outputs": [
    {
     "name": "stdout",
     "output_type": "stream",
     "text": [
      "Best hyperparameters : {'criterion': 'gini', 'max_depth': 15, 'min_samples_split': 2, 'n_estimators': 300}\n"
     ]
    }
   ],
   "source": [
    "# Tune hyperparameters using grid search\n",
    "param_grid = {'n_estimators': [100, 300, 500],\n",
    "              'criterion' : [\"gini\", \"entropy\"],\n",
    "              'max_depth': [5, 10, 15],\n",
    "              'min_samples_split': [2, 5, 10]}\n",
    "\n",
    "# Exhaustive search over specified parameter values for an estimator.\n",
    "grid = GridSearchCV(rf, param_grid = param_grid)\n",
    "\n",
    "# Fitting data into grid\n",
    "grid.fit(xtrain, ytrain)\n",
    "\n",
    "# Print the best hyperparameters\n",
    "print(\"Best hyperparameters :\", grid.best_params_)"
   ]
  },
  {
   "cell_type": "code",
   "execution_count": 38,
   "id": "583ee755",
   "metadata": {
    "ExecuteTime": {
     "end_time": "2023-04-07T07:53:46.086407Z",
     "start_time": "2023-04-07T07:53:43.590266Z"
    }
   },
   "outputs": [
    {
     "name": "stdout",
     "output_type": "stream",
     "text": [
      "Best model performance :\n",
      "\n",
      "AUC-ROC Score : 0.9911191872069088\n",
      "              precision    recall  f1-score   support\n",
      "\n",
      "           0       1.00      0.99      0.99      1068\n",
      "           1       0.99      1.00      0.99      1079\n",
      "\n",
      "    accuracy                           0.99      2147\n",
      "   macro avg       0.99      0.99      0.99      2147\n",
      "weighted avg       0.99      0.99      0.99      2147\n",
      "\n"
     ]
    }
   ],
   "source": [
    "# Fitting the model with the best hyperparameters & evaluate performance\n",
    "model = RandomForestClassifier(**grid.best_params_)\n",
    "\n",
    "# Fitting data into tunned model\n",
    "model.fit(xtrain, ytrain)\n",
    "\n",
    "# Prediction \n",
    "rf_pred_best = model.predict(xtest)\n",
    "\n",
    "print(\"Best model performance :\")\n",
    "print(\"\\nAUC-ROC Score :\", roc_auc_score(ytest, rf_pred_best))\n",
    "print(classification_report(ytest, rf_pred_best))"
   ]
  },
  {
   "cell_type": "code",
   "execution_count": 39,
   "id": "426c1fb4",
   "metadata": {
    "ExecuteTime": {
     "end_time": "2023-04-07T07:53:46.102648Z",
     "start_time": "2023-04-07T07:53:46.086407Z"
    }
   },
   "outputs": [
    {
     "name": "stdout",
     "output_type": "stream",
     "text": [
      "Accuracy : 99.12%\n"
     ]
    }
   ],
   "source": [
    "# Calculating accuracy score for tunned random forests model\n",
    "acc = accuracy_score(ytest, rf_pred_best)\n",
    "\n",
    "# Print accuracy as a percentage\n",
    "print(\"Accuracy : {:.2f}%\".format(acc * 100))"
   ]
  },
  {
   "cell_type": "code",
   "execution_count": 40,
   "id": "af15060e",
   "metadata": {
    "ExecuteTime": {
     "end_time": "2023-04-07T07:53:46.294998Z",
     "start_time": "2023-04-07T07:53:46.102648Z"
    }
   },
   "outputs": [
    {
     "data": {
      "image/png": "[encoded data removed]",
      "text/plain": [
       "<Figure size 640x480 with 1 Axes>"
      ]
     },
     "metadata": {},
     "output_type": "display_data"
    }
   ],
   "source": [
    "# The true labels in ytest & predicted probabilities in rf_pred_best\n",
    "\n",
    "'''The roc_curve function is used to compute the True Positive Rate (TPR) & False Positive Rate (FPR)\n",
    "at various probability thresholds. These values are stored in tpr, fpr & thresholds.'''\n",
    "\n",
    "fpr, tpr, thresholds = roc_curve(ytest, rf_pred_best) # Computing Receiver Operating Characteristic (ROC)\n",
    "roc_auc = auc(fpr, tpr) # Computing Area Under the Curve (AUC)\n",
    "\n",
    "# Plotting the ROC curve\n",
    "plt.plot(fpr, tpr, color='blue', label='ROC Curve (%0.2f)' % roc_auc)\n",
    "plt.plot([0, 1], [0, 1], color='red', linestyle='--')\n",
    "plt.xlabel('False Positive Rate')\n",
    "plt.ylabel('True Positive Rate')\n",
    "plt.title('Receiver Operating Characteristic (ROC) Curve')\n",
    "plt.legend(loc=\"lower right\")\n",
    "plt.show()"
   ]
  },
  {
   "cell_type": "markdown",
   "id": "fee5d09b",
   "metadata": {},
   "source": [
    "- ***ROC curve shows a perfect classifier, it means that the `Random Forest Classifier` model is able to perfectly distinguish between the positive & negative classes.***"
   ]
  },
  {
   "cell_type": "code",
   "execution_count": null,
   "id": "9235e1cf",
   "metadata": {},
   "outputs": [],
   "source": []
  }
 ],
 "metadata": {
  "kernelspec": {
   "display_name": "Python 3 (ipykernel)",
   "language": "python",
   "name": "python3"
  },
  "language_info": {
   "codemirror_mode": {
    "name": "ipython",
    "version": 3
   },
   "file_extension": ".py",
   "mimetype": "text/x-python",
   "name": "python",
   "nbconvert_exporter": "python",
   "pygments_lexer": "ipython3",
   "version": "3.9.13"
  }
 },
 "nbformat": 4,
 "nbformat_minor": 5
}
